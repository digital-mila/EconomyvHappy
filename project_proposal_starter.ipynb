{
 "cells": [
  {
   "cell_type": "markdown",
   "metadata": {},
   "source": [
    "# Project Proposal\n",
    "\n",
    "Your proposal is this notebook (**complete it please!**). Double-click each numbered cell below to edit them and then fill in your completed information. **If you are using your own custom information source, you would *also* submit a csv of that file along with this notebook.** \n",
    "\n",
    "You must check-in with a TA before you submit your proposal. Possible check in times will be posted soon. Once we know what the project groups are, we will assign each group a TA mentor for the remainder of the project.\n",
    "\n",
    "We also recommend that if you are using your own information source, you discuss it with a TA first to get guidance on whether it is likely to work as an information source.\n",
    "\n",
    "As with your tutorials, use the submission cell at the bottom to submit this notebook."
   ]
  },
  {
   "cell_type": "markdown",
   "metadata": {},
   "source": [
    "### 1. Student Name(s) and Project Group on Canvas: \n",
    "- Milena Kolesnikova\n",
    "\n",
    "- Project Group Number: N/A"
   ]
  },
  {
   "cell_type": "markdown",
   "metadata": {},
   "source": [
    "## 2. Project Topic Choice\n",
    "\n",
    "My/our intended information source is: **fill in your information source from [CPSC 103's provided sources](https://canvas.ubc.ca/courses/53525/pages/sample-information-sources-and-domains) or write \"my/our own custom information source, described below\"**.\n",
    "\n",
    "*If you used your own custom information source, ensure the csv file is submitted along with this notebook!*"
   ]
  },
  {
   "cell_type": "markdown",
   "metadata": {},
   "source": [
    "## 3. Question/Topic to Explore - How Economic Factors Affect Avg. Happiness Ratings\n",
    "\n",
    "https://github.com/ghenshaw/datasets/blob/master/country_per_cap_gdp_unemployment_gov_type_pop.csv\n",
    "\n",
    "https://www.kaggle.com/unsdsn/world-happiness\n",
    "\n",
    "My information source is publicly-available data about the world happiness index and the GDP, unemployment, and population by country. My question is: how do economic factors (GDP per capita, unemployment rate, or government type) affect the population's well being (total happiness, and other components; Family, Life Expectancy, Freedom, Generosity, Trust in Governemnt)? I'm combining two data sources that were included in the sample information page on canvas (\"GDP, unemployment, and population by country\" and \"World Happiness Report\"), and will be omiting certain varibales from each data set that are irrelevant to my research question (i.e. population size, happiness rank, etc). The purpose is to examine economic factors alone, rather than individuls countries to see if economic health can also measure the actual health of its people."
   ]
  },
  {
   "cell_type": "markdown",
   "metadata": {},
   "source": [
    "## 4. Planned Graph/Chart\n",
    "\n",
    "I want to create a bar graph to demonstrate different cases of happiness scores considering different economic factors. \n",
    "- **Y variable:** total happiness score, and its parts; social support, healthy life expectancy, freedom, generosity, trust in government. (World Happiness Ranking 2016)\n",
    "- **X variable:** GPD per capita, unemployment, goventment type. (GDP, unemployment, and population by country)\n",
    "\n",
    "My plan is for my program to produce graphs for different cases. For instance, one can produce a graph comparing average trust in government versus a government type, or another can be total happiness versus GDP per capita. Each input can be interchangeable, and it can produce a total of 18 different kinds of graphs."
   ]
  },
  {
   "cell_type": "markdown",
   "metadata": {},
   "source": [
    "## 5. Substantial Computation\n",
    "\n",
    "I plan to find the average happiness scores between the ranges of the dependent variables (gdp per capita, unemployment rate, government type) since I'm examining economic factors alone rather than individual countries. To find the average, I will add up the happiness scores and divide by how many countries were added in that particular range."
   ]
  },
  {
   "cell_type": "code",
   "execution_count": null,
   "metadata": {
    "deletable": false,
    "editable": false
   },
   "outputs": [],
   "source": [
    "# NOTE: You should not be able to edit this cell.\n",
    "# Instead, run this cell to start the submission process.\n",
    "from cs103 import submit\n",
    "\n",
    "COURSE = 53525\n",
    "ASSIGNMENT = 596989\n",
    "\n",
    "submit(COURSE, ASSIGNMENT)\n",
    "\n",
    "# If your submission fails, SUBMIT by downloading your files \n",
    "# and uploading them to Canvas. You can learn how on the page \n",
    "# \"How to submit your Jupyter notebook\" on our Canvas site."
   ]
  }
 ],
 "metadata": {
  "kernelspec": {
   "display_name": "Python 3",
   "language": "python",
   "name": "python3"
  },
  "language_info": {
   "codemirror_mode": {
    "name": "ipython",
    "version": 3
   },
   "file_extension": ".py",
   "mimetype": "text/x-python",
   "name": "python",
   "nbconvert_exporter": "python",
   "pygments_lexer": "ipython3",
   "version": "3.8.3"
  }
 },
 "nbformat": 4,
 "nbformat_minor": 4
}
